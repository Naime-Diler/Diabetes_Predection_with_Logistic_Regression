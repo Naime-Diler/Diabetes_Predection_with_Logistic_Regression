{
 "cells": [
  {
   "cell_type": "markdown",
   "id": "74e8cc63a6478b06",
   "metadata": {},
   "source": [
    "# Diabetes Prediction with Logistic Regression"
   ]
  },
  {
   "cell_type": "markdown",
   "id": "37359035",
   "metadata": {},
   "source": [
    "In diesem Projekt werden die logistische Regression und ein Klassifizierungsprozess unter Berücksichtigung von Erfolgsmetriken und Modelvalidierungsmethoden analysiert. Zudem erfolgt eine Evaluation einer End-to-End-Maschinenlernklassifizierungsaufgabe anhand eines realen Datensatzes und eines realen Problems. Die Diabetesvorhersage wird mittels logistischer Regression durchgeführt, um ein entsprechendes Vorhersagemodell zu erstellen. Das Ziel besteht darin, die Einflussfaktoren auf das Auftreten von Diabetes zu untersuchen und ein Modell zu entwickeln, das basierend auf den Informationen einer neuen Person prognostiziert, ob diese an Diabetes erkranken wird oder nicht."
   ]
  },
  {
   "cell_type": "markdown",
   "id": "6591c66d",
   "metadata": {},
   "source": [
    "Die Schritte, die in diesem Projekt unternommen werden, sind:"
   ]
  },
  {
   "cell_type": "markdown",
   "id": "f0a724a2",
   "metadata": {},
   "source": [
    "1. Exploratory Data Analysis\n",
    "2. Data Preprocessing\n",
    "3. Model & Prediction\n",
    "4. Model Evaluation\n",
    "5. Model Validation: Holdout\n",
    "6. Model Validation: 10-Fold Cross Validation\n",
    "7. Prediction for A New Observation"
   ]
  },
  {
   "cell_type": "code",
   "execution_count": 1,
   "id": "170c49b9ad2196db",
   "metadata": {},
   "outputs": [
    {
     "ename": "ImportError",
     "evalue": "cannot import name 'plot_roc_curve' from 'sklearn.metrics' (C:\\Users\\Naime Diler\\anaconda3\\lib\\site-packages\\sklearn\\metrics\\__init__.py)",
     "output_type": "error",
     "traceback": [
      "\u001b[1;31m---------------------------------------------------------------------------\u001b[0m",
      "\u001b[1;31mImportError\u001b[0m                               Traceback (most recent call last)",
      "Cell \u001b[1;32mIn[1], line 8\u001b[0m\n\u001b[0;32m      6\u001b[0m \u001b[38;5;28;01mfrom\u001b[39;00m \u001b[38;5;21;01msklearn\u001b[39;00m\u001b[38;5;21;01m.\u001b[39;00m\u001b[38;5;21;01mpreprocessing\u001b[39;00m \u001b[38;5;28;01mimport\u001b[39;00m RobustScaler\n\u001b[0;32m      7\u001b[0m \u001b[38;5;28;01mfrom\u001b[39;00m \u001b[38;5;21;01msklearn\u001b[39;00m\u001b[38;5;21;01m.\u001b[39;00m\u001b[38;5;21;01mlinear_model\u001b[39;00m \u001b[38;5;28;01mimport\u001b[39;00m LogisticRegression\n\u001b[1;32m----> 8\u001b[0m \u001b[38;5;28;01mfrom\u001b[39;00m \u001b[38;5;21;01msklearn\u001b[39;00m\u001b[38;5;21;01m.\u001b[39;00m\u001b[38;5;21;01mmetrics\u001b[39;00m \u001b[38;5;28;01mimport\u001b[39;00m accuracy_score, roc_auc_score, confusion_matrix, classification_report, plot_roc_curve\n\u001b[0;32m      9\u001b[0m \u001b[38;5;28;01mfrom\u001b[39;00m \u001b[38;5;21;01msklearn\u001b[39;00m\u001b[38;5;21;01m.\u001b[39;00m\u001b[38;5;21;01mmodel_selection\u001b[39;00m \u001b[38;5;28;01mimport\u001b[39;00m train_test_split, cross_validate\n",
      "\u001b[1;31mImportError\u001b[0m: cannot import name 'plot_roc_curve' from 'sklearn.metrics' (C:\\Users\\Naime Diler\\anaconda3\\lib\\site-packages\\sklearn\\metrics\\__init__.py)"
     ]
    }
   ],
   "source": [
    "import matplotlib.pyplot as plt\n",
    "import numpy as np\n",
    "import pandas as pd\n",
    "import seaborn as sns\n",
    "\n",
    "from sklearn.preprocessing import RobustScaler\n",
    "from sklearn.linear_model import LogisticRegression\n",
    "from sklearn.metrics import accuracy_score, roc_auc_score, confusion_matrix, classification_report, plot_roc_curve\n",
    "from sklearn.model_selection import train_test_split, cross_validate"
   ]
  },
  {
   "cell_type": "code",
   "execution_count": 2,
   "id": "7757950d",
   "metadata": {
    "ExecuteTime": {
     "end_time": "2024-04-14T17:39:59.656739700Z",
     "start_time": "2024-04-14T17:39:58.312814600Z"
    }
   },
   "outputs": [],
   "source": [
    "from sklearn.metrics import accuracy_score, roc_auc_score, confusion_matrix, classification_report\n",
    "from sklearn.model_selection import train_test_split, cross_validate\n",
    "\n",
    "# pip install scikit-plot\n",
    "from scikitplot.metrics import plot_roc_curve"
   ]
  },
  {
   "cell_type": "markdown",
   "id": "aadfed76",
   "metadata": {},
   "source": [
    "Zur Identifizierung von Ausreißerwerten in einer Variablen ist zunächst die Berechnung eines Schwellenwerts erforderlich."
   ]
  },
  {
   "cell_type": "code",
   "execution_count": 3,
   "id": "a1781858e54e0568",
   "metadata": {},
   "outputs": [],
   "source": [
    "def outlier_thresholds(dataframe, col_name, q1=0.05, q3=0.95):\n",
    "    quartile1 = dataframe[col_name].quantile(q1)\n",
    "    quartile3 = dataframe[col_name].quantile(q3)\n",
    "    interquantile_range = quartile3 - quartile1\n",
    "    up_limit = quartile3 + 1.5 * interquantile_range\n",
    "    low_limit = quartile1 - 1.5 * interquantile_range\n",
    "    return low_limit, up_limit"
   ]
  },
  {
   "cell_type": "markdown",
   "id": "a24c448f",
   "metadata": {},
   "source": [
    "Nach der Berechnung dieser Schwellenwerte wird überprüft, ob in einer Variablen Ausreißerwerte vorhanden sind."
   ]
  },
  {
   "cell_type": "code",
   "execution_count": 4,
   "id": "7f0efe1b9b6b43cc",
   "metadata": {},
   "outputs": [],
   "source": [
    "def check_outlier(dataframe, col_name):\n",
    "    low_limit, up_limit = outlier_thresholds(dataframe, col_name)\n",
    "    if dataframe[(dataframe[col_name] > up_limit) | (dataframe[col_name] < low_limit)].any(axis=None):\n",
    "        return True\n",
    "    else:\n",
    "        return False"
   ]
  },
  {
   "cell_type": "markdown",
   "id": "ed837437",
   "metadata": {},
   "source": [
    "Die Verwendung der berechneten Schwellenwerte ermöglicht die Identifizierung von Ausreißerwerten in einer Variablen und deren potenzielle Ersetzung durch dieselben\n",
    "Schwellenwerte."
   ]
  },
  {
   "cell_type": "code",
   "execution_count": 5,
   "id": "ff8a1037e708b92",
   "metadata": {},
   "outputs": [],
   "source": [
    "def replace_with_thresholds(dataframe, variable):\n",
    "    low_limit, up_limit = outlier_thresholds(dataframe, variable)\n",
    "    dataframe.loc[(dataframe[variable] < low_limit), variable] = low_limit\n",
    "    dataframe.loc[(dataframe[variable] > up_limit), variable] = up_limit"
   ]
  },
  {
   "cell_type": "markdown",
   "id": "87a3f1ed",
   "metadata": {},
   "source": [
    "Hinweis: \n",
    "\n",
    "Bei der Berechnung der Ausreißerschwellenwerte mit der IQR-Methode, auch bekannt als Boxplot-Methode, werden üblicherweise die 25. und 75. Perzentile verwendet. Allerdings wird oft die Verwendung der 5. und 95. Perzentile bevorzugt. Dies geschieht, um Mehrfachwirkungen nicht zu vernachlässigen und nurdie extremsten Ausreißer anzusprechen."
   ]
  },
  {
   "cell_type": "code",
   "execution_count": 6,
   "id": "3c7283204324436f",
   "metadata": {},
   "outputs": [],
   "source": [
    "pd.set_option('display.max_columns', None)\n",
    "pd.set_option('display.float_format', lambda x: '%.3f' % x)\n",
    "pd.set_option('display.width', 500)"
   ]
  },
  {
   "cell_type": "markdown",
   "id": "ff617dfd821c41d3",
   "metadata": {},
   "source": [
    "# Exploratory Data Analysis"
   ]
  },
  {
   "cell_type": "code",
   "execution_count": 7,
   "id": "c774fe9a5d6bfae6",
   "metadata": {},
   "outputs": [],
   "source": [
    "df = pd.read_csv(r\"C:\\Users\\Naime Diler\\Desktop\\PycharmProjects\\datasets/diabetes.csv\")"
   ]
  },
  {
   "cell_type": "code",
   "execution_count": 8,
   "id": "25501094b7dd1a53",
   "metadata": {},
   "outputs": [
    {
     "data": {
      "text/html": [
       "<div>\n",
       "<style scoped>\n",
       "    .dataframe tbody tr th:only-of-type {\n",
       "        vertical-align: middle;\n",
       "    }\n",
       "\n",
       "    .dataframe tbody tr th {\n",
       "        vertical-align: top;\n",
       "    }\n",
       "\n",
       "    .dataframe thead th {\n",
       "        text-align: right;\n",
       "    }\n",
       "</style>\n",
       "<table border=\"1\" class=\"dataframe\">\n",
       "  <thead>\n",
       "    <tr style=\"text-align: right;\">\n",
       "      <th></th>\n",
       "      <th>Pregnancies</th>\n",
       "      <th>Glucose</th>\n",
       "      <th>BloodPressure</th>\n",
       "      <th>SkinThickness</th>\n",
       "      <th>Insulin</th>\n",
       "      <th>BMI</th>\n",
       "      <th>DiabetesPedigreeFunction</th>\n",
       "      <th>Age</th>\n",
       "      <th>Outcome</th>\n",
       "    </tr>\n",
       "  </thead>\n",
       "  <tbody>\n",
       "    <tr>\n",
       "      <th>0</th>\n",
       "      <td>6</td>\n",
       "      <td>148</td>\n",
       "      <td>72</td>\n",
       "      <td>35</td>\n",
       "      <td>0</td>\n",
       "      <td>33.600</td>\n",
       "      <td>0.627</td>\n",
       "      <td>50</td>\n",
       "      <td>1</td>\n",
       "    </tr>\n",
       "    <tr>\n",
       "      <th>1</th>\n",
       "      <td>1</td>\n",
       "      <td>85</td>\n",
       "      <td>66</td>\n",
       "      <td>29</td>\n",
       "      <td>0</td>\n",
       "      <td>26.600</td>\n",
       "      <td>0.351</td>\n",
       "      <td>31</td>\n",
       "      <td>0</td>\n",
       "    </tr>\n",
       "    <tr>\n",
       "      <th>2</th>\n",
       "      <td>8</td>\n",
       "      <td>183</td>\n",
       "      <td>64</td>\n",
       "      <td>0</td>\n",
       "      <td>0</td>\n",
       "      <td>23.300</td>\n",
       "      <td>0.672</td>\n",
       "      <td>32</td>\n",
       "      <td>1</td>\n",
       "    </tr>\n",
       "    <tr>\n",
       "      <th>3</th>\n",
       "      <td>1</td>\n",
       "      <td>89</td>\n",
       "      <td>66</td>\n",
       "      <td>23</td>\n",
       "      <td>94</td>\n",
       "      <td>28.100</td>\n",
       "      <td>0.167</td>\n",
       "      <td>21</td>\n",
       "      <td>0</td>\n",
       "    </tr>\n",
       "    <tr>\n",
       "      <th>4</th>\n",
       "      <td>0</td>\n",
       "      <td>137</td>\n",
       "      <td>40</td>\n",
       "      <td>35</td>\n",
       "      <td>168</td>\n",
       "      <td>43.100</td>\n",
       "      <td>2.288</td>\n",
       "      <td>33</td>\n",
       "      <td>1</td>\n",
       "    </tr>\n",
       "  </tbody>\n",
       "</table>\n",
       "</div>"
      ],
      "text/plain": [
       "   Pregnancies  Glucose  BloodPressure  SkinThickness  Insulin    BMI  DiabetesPedigreeFunction  Age  Outcome\n",
       "0            6      148             72             35        0 33.600                     0.627   50        1\n",
       "1            1       85             66             29        0 26.600                     0.351   31        0\n",
       "2            8      183             64              0        0 23.300                     0.672   32        1\n",
       "3            1       89             66             23       94 28.100                     0.167   21        0\n",
       "4            0      137             40             35      168 43.100                     2.288   33        1"
      ]
     },
     "execution_count": 8,
     "metadata": {},
     "output_type": "execute_result"
    }
   ],
   "source": [
    "df.head()"
   ]
  },
  {
   "cell_type": "code",
   "execution_count": 9,
   "id": "7ee305e8890f0da4",
   "metadata": {},
   "outputs": [
    {
     "data": {
      "text/plain": [
       "(768, 9)"
      ]
     },
     "execution_count": 9,
     "metadata": {},
     "output_type": "execute_result"
    }
   ],
   "source": [
    "df.shape"
   ]
  },
  {
   "cell_type": "markdown",
   "id": "ce13e619",
   "metadata": {},
   "source": [
    "### Analyse der Zielvariable"
   ]
  },
  {
   "cell_type": "code",
   "execution_count": 10,
   "id": "eb14ec28",
   "metadata": {},
   "outputs": [
    {
     "data": {
      "text/plain": [
       "Outcome\n",
       "0    500\n",
       "1    268\n",
       "Name: count, dtype: int64"
      ]
     },
     "execution_count": 10,
     "metadata": {},
     "output_type": "execute_result"
    }
   ],
   "source": [
    "df[\"Outcome\"].value_counts()"
   ]
  },
  {
   "cell_type": "code",
   "execution_count": 11,
   "id": "a20d0450ee3adbfa",
   "metadata": {},
   "outputs": [
    {
     "data": {
      "image/png": "[encoded data removed]",
      "text/plain": [
       "<Figure size 640x480 with 1 Axes>"
      ]
     },
     "metadata": {},
     "output_type": "display_data"
    }
   ],
   "source": [
    "sns.countplot(x=\"Outcome\", data=df)\n",
    "plt.show(block=True)"
   ]
  },
  {
   "cell_type": "markdown",
   "id": "e7d627e2",
   "metadata": {},
   "source": [
    "Um die Anteile der Klassen im Datensatz in Prozent zu erhalten:"
   ]
  },
  {
   "cell_type": "code",
   "execution_count": 12,
   "id": "f8457dc2fbfa2657",
   "metadata": {},
   "outputs": [
    {
     "data": {
      "text/plain": [
       "Outcome\n",
       "0   65.104\n",
       "1   34.896\n",
       "Name: count, dtype: float64"
      ]
     },
     "execution_count": 12,
     "metadata": {},
     "output_type": "execute_result"
    }
   ],
   "source": [
    "100 * df[\"Outcome\"].value_counts() / len(df)"
   ]
  },
  {
   "cell_type": "markdown",
   "id": "271a4e5b",
   "metadata": {},
   "source": [
    "### Merkmalsanalyse (Features)"
   ]
  },
  {
   "cell_type": "markdown",
   "id": "68e970dd",
   "metadata": {},
   "source": [
    "Eine übliche Herangehensweise zur Analyse der unabhängigen Variablen ist die Verwendung der describe() -Funktion. Diese Funktion bietet eine Zusammenfassung der\n",
    "numerischen Variablen und liefert statistische Kennzahlen zu ihrem Zustand."
   ]
  },
  {
   "cell_type": "code",
   "execution_count": 13,
   "id": "d1b4c5da62e321f8",
   "metadata": {},
   "outputs": [
    {
     "data": {
      "text/html": [
       "<div>\n",
       "<style scoped>\n",
       "    .dataframe tbody tr th:only-of-type {\n",
       "        vertical-align: middle;\n",
       "    }\n",
       "\n",
       "    .dataframe tbody tr th {\n",
       "        vertical-align: top;\n",
       "    }\n",
       "\n",
       "    .dataframe thead th {\n",
       "        text-align: right;\n",
       "    }\n",
       "</style>\n",
       "<table border=\"1\" class=\"dataframe\">\n",
       "  <thead>\n",
       "    <tr style=\"text-align: right;\">\n",
       "      <th></th>\n",
       "      <th>count</th>\n",
       "      <th>mean</th>\n",
       "      <th>std</th>\n",
       "      <th>min</th>\n",
       "      <th>25%</th>\n",
       "      <th>50%</th>\n",
       "      <th>75%</th>\n",
       "      <th>max</th>\n",
       "    </tr>\n",
       "  </thead>\n",
       "  <tbody>\n",
       "    <tr>\n",
       "      <th>Pregnancies</th>\n",
       "      <td>768.000</td>\n",
       "      <td>3.845</td>\n",
       "      <td>3.370</td>\n",
       "      <td>0.000</td>\n",
       "      <td>1.000</td>\n",
       "      <td>3.000</td>\n",
       "      <td>6.000</td>\n",
       "      <td>17.000</td>\n",
       "    </tr>\n",
       "    <tr>\n",
       "      <th>Glucose</th>\n",
       "      <td>768.000</td>\n",
       "      <td>120.895</td>\n",
       "      <td>31.973</td>\n",
       "      <td>0.000</td>\n",
       "      <td>99.000</td>\n",
       "      <td>117.000</td>\n",
       "      <td>140.250</td>\n",
       "      <td>199.000</td>\n",
       "    </tr>\n",
       "    <tr>\n",
       "      <th>BloodPressure</th>\n",
       "      <td>768.000</td>\n",
       "      <td>69.105</td>\n",
       "      <td>19.356</td>\n",
       "      <td>0.000</td>\n",
       "      <td>62.000</td>\n",
       "      <td>72.000</td>\n",
       "      <td>80.000</td>\n",
       "      <td>122.000</td>\n",
       "    </tr>\n",
       "    <tr>\n",
       "      <th>SkinThickness</th>\n",
       "      <td>768.000</td>\n",
       "      <td>20.536</td>\n",
       "      <td>15.952</td>\n",
       "      <td>0.000</td>\n",
       "      <td>0.000</td>\n",
       "      <td>23.000</td>\n",
       "      <td>32.000</td>\n",
       "      <td>99.000</td>\n",
       "    </tr>\n",
       "    <tr>\n",
       "      <th>Insulin</th>\n",
       "      <td>768.000</td>\n",
       "      <td>79.799</td>\n",
       "      <td>115.244</td>\n",
       "      <td>0.000</td>\n",
       "      <td>0.000</td>\n",
       "      <td>30.500</td>\n",
       "      <td>127.250</td>\n",
       "      <td>846.000</td>\n",
       "    </tr>\n",
       "    <tr>\n",
       "      <th>BMI</th>\n",
       "      <td>768.000</td>\n",
       "      <td>31.993</td>\n",
       "      <td>7.884</td>\n",
       "      <td>0.000</td>\n",
       "      <td>27.300</td>\n",
       "      <td>32.000</td>\n",
       "      <td>36.600</td>\n",
       "      <td>67.100</td>\n",
       "    </tr>\n",
       "    <tr>\n",
       "      <th>DiabetesPedigreeFunction</th>\n",
       "      <td>768.000</td>\n",
       "      <td>0.472</td>\n",
       "      <td>0.331</td>\n",
       "      <td>0.078</td>\n",
       "      <td>0.244</td>\n",
       "      <td>0.372</td>\n",
       "      <td>0.626</td>\n",
       "      <td>2.420</td>\n",
       "    </tr>\n",
       "    <tr>\n",
       "      <th>Age</th>\n",
       "      <td>768.000</td>\n",
       "      <td>33.241</td>\n",
       "      <td>11.760</td>\n",
       "      <td>21.000</td>\n",
       "      <td>24.000</td>\n",
       "      <td>29.000</td>\n",
       "      <td>41.000</td>\n",
       "      <td>81.000</td>\n",
       "    </tr>\n",
       "    <tr>\n",
       "      <th>Outcome</th>\n",
       "      <td>768.000</td>\n",
       "      <td>0.349</td>\n",
       "      <td>0.477</td>\n",
       "      <td>0.000</td>\n",
       "      <td>0.000</td>\n",
       "      <td>0.000</td>\n",
       "      <td>1.000</td>\n",
       "      <td>1.000</td>\n",
       "    </tr>\n",
       "  </tbody>\n",
       "</table>\n",
       "</div>"
      ],
      "text/plain": [
       "                           count    mean     std    min    25%     50%     75%     max\n",
       "Pregnancies              768.000   3.845   3.370  0.000  1.000   3.000   6.000  17.000\n",
       "Glucose                  768.000 120.895  31.973  0.000 99.000 117.000 140.250 199.000\n",
       "BloodPressure            768.000  69.105  19.356  0.000 62.000  72.000  80.000 122.000\n",
       "SkinThickness            768.000  20.536  15.952  0.000  0.000  23.000  32.000  99.000\n",
       "Insulin                  768.000  79.799 115.244  0.000  0.000  30.500 127.250 846.000\n",
       "BMI                      768.000  31.993   7.884  0.000 27.300  32.000  36.600  67.100\n",
       "DiabetesPedigreeFunction 768.000   0.472   0.331  0.078  0.244   0.372   0.626   2.420\n",
       "Age                      768.000  33.241  11.760 21.000 24.000  29.000  41.000  81.000\n",
       "Outcome                  768.000   0.349   0.477  0.000  0.000   0.000   1.000   1.000"
      ]
     },
     "execution_count": 13,
     "metadata": {},
     "output_type": "execute_result"
    }
   ],
   "source": [
    "df.describe().T"
   ]
  },
  {
   "cell_type": "markdown",
   "id": "8c5b5b83",
   "metadata": {},
   "source": [
    "Hier liegen einige ungewöhnliche Zustände vor, die während des Preprocessings kurz bewertet werden."
   ]
  },
  {
   "cell_type": "markdown",
   "id": "7d0a20fe",
   "metadata": {},
   "source": [
    "Visualisierung von numerischen Variablen:"
   ]
  },
  {
   "cell_type": "code",
   "execution_count": 14,
   "id": "68b2ba35718cd7ae",
   "metadata": {},
   "outputs": [
    {
     "data": {
      "image/png": "[encoded data removed]",
      "text/plain": [
       "<Figure size 640x480 with 1 Axes>"
      ]
     },
     "metadata": {},
     "output_type": "display_data"
    }
   ],
   "source": [
    "df[\"BloodPressure\"].hist(bins=20)\n",
    "plt.xlabel(\"BloodPressure\")\n",
    "plt.show() "
   ]
  },
  {
   "cell_type": "markdown",
   "id": "7c57dbe7",
   "metadata": {},
   "source": [
    "für alle:"
   ]
  },
  {
   "cell_type": "code",
   "execution_count": 15,
   "id": "51d5bcf905308fe4",
   "metadata": {},
   "outputs": [],
   "source": [
    "def plot_numerical_col(dataframe, numerical_col):\n",
    "    dataframe[numerical_col].hist(bins=20)\n",
    "    plt.xlabel(numerical_col)\n",
    "    plt.show(block=True)  \n",
    "    \n",
    "# Die Einstellung block=True wird verwendet, um sicherzustellen, dass aufeinanderfolgende Grafiken nicht überlagert werden, wenn sie\n",
    "# angezeigt werden."
   ]
  },
  {
   "cell_type": "code",
   "execution_count": 16,
   "id": "ec612261dff3cd51",
   "metadata": {},
   "outputs": [
    {
     "data": {
      "image/png": "[encoded data removed]",
      "text/plain": [
       "<Figure size 640x480 with 1 Axes>"
      ]
     },
     "metadata": {},
     "output_type": "display_data"
    },
    {
     "data": {
      "image/png": "[encoded data removed]",
      "text/plain": [
       "<Figure size 640x480 with 1 Axes>"
      ]
     },
     "metadata": {},
     "output_type": "display_data"
    },
    {
     "data": {
      "image/png": "[encoded data removed]",
      "text/plain": [
       "<Figure size 640x480 with 1 Axes>"
      ]
     },
     "metadata": {},
     "output_type": "display_data"
    },
    {
     "data": {
      "image/png": "[encoded data removed]",
      "text/plain": [
       "<Figure size 640x480 with 1 Axes>"
      ]
     },
     "metadata": {},
     "output_type": "display_data"
    },
    {
     "data": {
      "image/png": "[encoded data removed]",
      "text/plain": [
       "<Figure size 640x480 with 1 Axes>"
      ]
     },
     "metadata": {},
     "output_type": "display_data"
    },
    {
     "data": {
      "image/png": "[encoded data removed]",
      "text/plain": [
       "<Figure size 640x480 with 1 Axes>"
      ]
     },
     "metadata": {},
     "output_type": "display_data"
    },
    {
     "data": {
      "image/png": "[encoded data removed]",
      "text/plain": [
       "<Figure size 640x480 with 1 Axes>"
      ]
     },
     "metadata": {},
     "output_type": "display_data"
    },
    {
     "data": {
      "image/png": "[encoded data removed]",
      "text/plain": [
       "<Figure size 640x480 with 1 Axes>"
      ]
     },
     "metadata": {},
     "output_type": "display_data"
    }
   ],
   "source": [
    "cols = [col for col in df.columns if \"Outcome\" not in col]\n",
    "\n",
    "for col in cols:\n",
    "   plot_numerical_col(df, col)"
   ]
  },
  {
   "cell_type": "markdown",
   "id": "fb2a5816",
   "metadata": {},
   "source": [
    "Hinweis: \n",
    "Da im vorliegenden Datensatz ausschließlich numerische Variablen vorhanden sind, ohne kategoriale, kann die Funktion plot_numerical_col ohne Probleme genutzt\n",
    "werden, ohne zuvor die numerischen und kategorialen Variablen trennen zu müssen."
   ]
  },
  {
   "cell_type": "markdown",
   "id": "c34e8675",
   "metadata": {},
   "source": [
    "Zusammenfassung: \n",
    "\n",
    "Sowohl die Zielvariable als auch die Merkmale, also die unabhängigen Variablen, wurden getrennt untersucht. Die Analyse ist nun abgeschlossen."
   ]
  },
  {
   "cell_type": "markdown",
   "id": "243a63cc5f76e972",
   "metadata": {},
   "source": [
    "### Target vs Features"
   ]
  },
  {
   "cell_type": "markdown",
   "id": "80181461",
   "metadata": {},
   "source": [
    "Um ein Verständnis dafür zu erlangen, wie sich das Target auf unabhängige Variablen auswirkt:"
   ]
  },
  {
   "cell_type": "code",
   "execution_count": 17,
   "id": "25b81db3aebe690d",
   "metadata": {},
   "outputs": [
    {
     "data": {
      "text/html": [
       "<div>\n",
       "<style scoped>\n",
       "    .dataframe tbody tr th:only-of-type {\n",
       "        vertical-align: middle;\n",
       "    }\n",
       "\n",
       "    .dataframe tbody tr th {\n",
       "        vertical-align: top;\n",
       "    }\n",
       "\n",
       "    .dataframe thead th {\n",
       "        text-align: right;\n",
       "    }\n",
       "</style>\n",
       "<table border=\"1\" class=\"dataframe\">\n",
       "  <thead>\n",
       "    <tr style=\"text-align: right;\">\n",
       "      <th></th>\n",
       "      <th>Pregnancies</th>\n",
       "    </tr>\n",
       "    <tr>\n",
       "      <th>Outcome</th>\n",
       "      <th></th>\n",
       "    </tr>\n",
       "  </thead>\n",
       "  <tbody>\n",
       "    <tr>\n",
       "      <th>0</th>\n",
       "      <td>3.298</td>\n",
       "    </tr>\n",
       "    <tr>\n",
       "      <th>1</th>\n",
       "      <td>4.866</td>\n",
       "    </tr>\n",
       "  </tbody>\n",
       "</table>\n",
       "</div>"
      ],
      "text/plain": [
       "         Pregnancies\n",
       "Outcome             \n",
       "0              3.298\n",
       "1              4.866"
      ]
     },
     "execution_count": 17,
     "metadata": {},
     "output_type": "execute_result"
    }
   ],
   "source": [
    "df.groupby(\"Outcome\").agg({\"Pregnancies\": \"mean\"})"
   ]
  },
  {
   "cell_type": "code",
   "execution_count": 18,
   "id": "cdcb0792c953731b",
   "metadata": {},
   "outputs": [
    {
     "name": "stdout",
     "output_type": "stream",
     "text": [
      "         Pregnancies\n",
      "Outcome             \n",
      "0              3.298\n",
      "1              4.866\n",
      "\n",
      "\n",
      "         Glucose\n",
      "Outcome         \n",
      "0        109.980\n",
      "1        141.257\n",
      "\n",
      "\n",
      "         BloodPressure\n",
      "Outcome               \n",
      "0               68.184\n",
      "1               70.825\n",
      "\n",
      "\n",
      "         SkinThickness\n",
      "Outcome               \n",
      "0               19.664\n",
      "1               22.164\n",
      "\n",
      "\n",
      "         Insulin\n",
      "Outcome         \n",
      "0         68.792\n",
      "1        100.336\n",
      "\n",
      "\n",
      "           BMI\n",
      "Outcome       \n",
      "0       30.304\n",
      "1       35.143\n",
      "\n",
      "\n",
      "         DiabetesPedigreeFunction\n",
      "Outcome                          \n",
      "0                           0.430\n",
      "1                           0.550\n",
      "\n",
      "\n",
      "           Age\n",
      "Outcome       \n",
      "0       31.190\n",
      "1       37.067\n",
      "\n",
      "\n"
     ]
    }
   ],
   "source": [
    "# Zusammenfassung des Targets mit numerischen Variablen:\n",
    "\n",
    "def target_summary_with_num(dataframe, target, numerical_col):\n",
    "    print(dataframe.groupby(target).agg({numerical_col: \"mean\"}), end=\"\\n\\n\\n\")\n",
    "\n",
    "for col in cols: # cols wurde oben definiert!\n",
    "    target_summary_with_num(df, \"Outcome\", col)"
   ]
  },
  {
   "cell_type": "markdown",
   "id": "05ff28a1",
   "metadata": {},
   "source": [
    "Fazit:\n",
    "    \n",
    "Die durchschnittliche Altersspanne der Personen mit Diabetes beträgt 37 Jahre, während sie bei Personen ohne Diabetes niedriger ist.\n",
    "Bei der Variable BMI, die den Body-Mass-Index ausdrückt, ist der Durchschnitt bei Personen mit Diabetes höher als bei denen ohne Diabetes.\n",
    "Der Durchschnitt des Insulins bei Personen mit Diabetes ist im Vergleich zu denen ohne Diabetes höher.\n",
    "Es ist erkennbar, dass zwischen den unabhängigen und abhängigen Variablen eine Diskrepanz besteht. Nach der Analyse mittels groupby() und der Betrachtung der\n",
    "Durchschnittswerte können einige Ideen abgeleitet werden. Auf dieser Grundlage können verschiedene Maßnahmen ergriffen werden, wenn zur Modellierung übergegangen\n",
    "wird."
   ]
  },
  {
   "cell_type": "markdown",
   "id": "f18021cfe90de705",
   "metadata": {},
   "source": [
    "# Data Pre-processing"
   ]
  },
  {
   "cell_type": "markdown",
   "id": "67661982",
   "metadata": {},
   "source": [
    "### Missings values"
   ]
  },
  {
   "cell_type": "code",
   "execution_count": 19,
   "id": "a78e5c6c183b6932",
   "metadata": {},
   "outputs": [
    {
     "data": {
      "text/plain": [
       "Pregnancies                 0\n",
       "Glucose                     0\n",
       "BloodPressure               0\n",
       "SkinThickness               0\n",
       "Insulin                     0\n",
       "BMI                         0\n",
       "DiabetesPedigreeFunction    0\n",
       "Age                         0\n",
       "Outcome                     0\n",
       "dtype: int64"
      ]
     },
     "execution_count": 19,
     "metadata": {},
     "output_type": "execute_result"
    }
   ],
   "source": [
    "df.isnull().sum()\n",
    "\n",
    "# Es gibt keine fehlenden Werte. Describe durchführen:"
   ]
  },
  {
   "cell_type": "code",
   "execution_count": 20,
   "id": "60b4adb7a1d2ee9c",
   "metadata": {},
   "outputs": [
    {
     "data": {
      "text/html": [
       "<div>\n",
       "<style scoped>\n",
       "    .dataframe tbody tr th:only-of-type {\n",
       "        vertical-align: middle;\n",
       "    }\n",
       "\n",
       "    .dataframe tbody tr th {\n",
       "        vertical-align: top;\n",
       "    }\n",
       "\n",
       "    .dataframe thead th {\n",
       "        text-align: right;\n",
       "    }\n",
       "</style>\n",
       "<table border=\"1\" class=\"dataframe\">\n",
       "  <thead>\n",
       "    <tr style=\"text-align: right;\">\n",
       "      <th></th>\n",
       "      <th>count</th>\n",
       "      <th>mean</th>\n",
       "      <th>std</th>\n",
       "      <th>min</th>\n",
       "      <th>25%</th>\n",
       "      <th>50%</th>\n",
       "      <th>75%</th>\n",
       "      <th>max</th>\n",
       "    </tr>\n",
       "  </thead>\n",
       "  <tbody>\n",
       "    <tr>\n",
       "      <th>Pregnancies</th>\n",
       "      <td>768.000</td>\n",
       "      <td>3.845</td>\n",
       "      <td>3.370</td>\n",
       "      <td>0.000</td>\n",
       "      <td>1.000</td>\n",
       "      <td>3.000</td>\n",
       "      <td>6.000</td>\n",
       "      <td>17.000</td>\n",
       "    </tr>\n",
       "    <tr>\n",
       "      <th>Glucose</th>\n",
       "      <td>768.000</td>\n",
       "      <td>120.895</td>\n",
       "      <td>31.973</td>\n",
       "      <td>0.000</td>\n",
       "      <td>99.000</td>\n",
       "      <td>117.000</td>\n",
       "      <td>140.250</td>\n",
       "      <td>199.000</td>\n",
       "    </tr>\n",
       "    <tr>\n",
       "      <th>BloodPressure</th>\n",
       "      <td>768.000</td>\n",
       "      <td>69.105</td>\n",
       "      <td>19.356</td>\n",
       "      <td>0.000</td>\n",
       "      <td>62.000</td>\n",
       "      <td>72.000</td>\n",
       "      <td>80.000</td>\n",
       "      <td>122.000</td>\n",
       "    </tr>\n",
       "    <tr>\n",
       "      <th>SkinThickness</th>\n",
       "      <td>768.000</td>\n",
       "      <td>20.536</td>\n",
       "      <td>15.952</td>\n",
       "      <td>0.000</td>\n",
       "      <td>0.000</td>\n",
       "      <td>23.000</td>\n",
       "      <td>32.000</td>\n",
       "      <td>99.000</td>\n",
       "    </tr>\n",
       "    <tr>\n",
       "      <th>Insulin</th>\n",
       "      <td>768.000</td>\n",
       "      <td>79.799</td>\n",
       "      <td>115.244</td>\n",
       "      <td>0.000</td>\n",
       "      <td>0.000</td>\n",
       "      <td>30.500</td>\n",
       "      <td>127.250</td>\n",
       "      <td>846.000</td>\n",
       "    </tr>\n",
       "    <tr>\n",
       "      <th>BMI</th>\n",
       "      <td>768.000</td>\n",
       "      <td>31.993</td>\n",
       "      <td>7.884</td>\n",
       "      <td>0.000</td>\n",
       "      <td>27.300</td>\n",
       "      <td>32.000</td>\n",
       "      <td>36.600</td>\n",
       "      <td>67.100</td>\n",
       "    </tr>\n",
       "    <tr>\n",
       "      <th>DiabetesPedigreeFunction</th>\n",
       "      <td>768.000</td>\n",
       "      <td>0.472</td>\n",
       "      <td>0.331</td>\n",
       "      <td>0.078</td>\n",
       "      <td>0.244</td>\n",
       "      <td>0.372</td>\n",
       "      <td>0.626</td>\n",
       "      <td>2.420</td>\n",
       "    </tr>\n",
       "    <tr>\n",
       "      <th>Age</th>\n",
       "      <td>768.000</td>\n",
       "      <td>33.241</td>\n",
       "      <td>11.760</td>\n",
       "      <td>21.000</td>\n",
       "      <td>24.000</td>\n",
       "      <td>29.000</td>\n",
       "      <td>41.000</td>\n",
       "      <td>81.000</td>\n",
       "    </tr>\n",
       "    <tr>\n",
       "      <th>Outcome</th>\n",
       "      <td>768.000</td>\n",
       "      <td>0.349</td>\n",
       "      <td>0.477</td>\n",
       "      <td>0.000</td>\n",
       "      <td>0.000</td>\n",
       "      <td>0.000</td>\n",
       "      <td>1.000</td>\n",
       "      <td>1.000</td>\n",
       "    </tr>\n",
       "  </tbody>\n",
       "</table>\n",
       "</div>"
      ],
      "text/plain": [
       "                           count    mean     std    min    25%     50%     75%     max\n",
       "Pregnancies              768.000   3.845   3.370  0.000  1.000   3.000   6.000  17.000\n",
       "Glucose                  768.000 120.895  31.973  0.000 99.000 117.000 140.250 199.000\n",
       "BloodPressure            768.000  69.105  19.356  0.000 62.000  72.000  80.000 122.000\n",
       "SkinThickness            768.000  20.536  15.952  0.000  0.000  23.000  32.000  99.000\n",
       "Insulin                  768.000  79.799 115.244  0.000  0.000  30.500 127.250 846.000\n",
       "BMI                      768.000  31.993   7.884  0.000 27.300  32.000  36.600  67.100\n",
       "DiabetesPedigreeFunction 768.000   0.472   0.331  0.078  0.244   0.372   0.626   2.420\n",
       "Age                      768.000  33.241  11.760 21.000 24.000  29.000  41.000  81.000\n",
       "Outcome                  768.000   0.349   0.477  0.000  0.000   0.000   1.000   1.000"
      ]
     },
     "execution_count": 20,
     "metadata": {},
     "output_type": "execute_result"
    }
   ],
   "source": [
    "df.describe().T"
   ]
  },
  {
   "cell_type": "markdown",
   "id": "dbdb42b7",
   "metadata": {},
   "source": [
    "Bei Blutdruck kann der Mindestwert nicht 0 sein, da dies darauf hindeutet, dass das Herz der betreffenden Person nicht schlägt. Ebenso dürfen bei BMI oder Insulin\n",
    "keine 0-Werte auftreten. Somit scheinen die fehlenden Werte in diesem Datensatz durch Nullen ersetzt worden zu sein, möglicherweise aufgrund der Datenquelle. Es\n",
    "wurde festgestellt, dass keine fehlenden Werte vorhanden sind, jedoch sind tatsächlich fehlende Werte vorhanden, die einfach durch Nullen ersetzt wurden. In diesem\n",
    "Projekt liegt der Fokus nicht auf der Date Preprocessing, daher wird der Prozess fortgesetzt, als ob keine fehlenden Werte vorhanden wären. Letztendlich hat die\n",
    "Datenquelle, von der dieser Datensatz stammt, diese Vorgehensweise angewendet. Es könnte jedoch bevorzugt werden, diese Nullwerte durch NaN-Werte zu ersetzen und\n",
    "entsprechend zu behandeln, insbesondere wenn das Fehlen von Werten ein Problem darstellt."
   ]
  },
  {
   "cell_type": "markdown",
   "id": "e2b5fe77",
   "metadata": {},
   "source": [
    "### Outliers"
   ]
  },
  {
   "cell_type": "code",
   "execution_count": 21,
   "id": "d709362bbb4bc7ed",
   "metadata": {},
   "outputs": [
    {
     "name": "stdout",
     "output_type": "stream",
     "text": [
      "Pregnancies False\n",
      "Glucose False\n",
      "BloodPressure False\n",
      "SkinThickness False\n",
      "Insulin True\n",
      "BMI False\n",
      "DiabetesPedigreeFunction False\n",
      "Age False\n"
     ]
    }
   ],
   "source": [
    "for col in cols:\n",
    "    print(col, check_outlier(df, col))\n",
    "    \n",
    "# Es ist nur ein Ausreißerwert in der Insulinvariable vorhanden."
   ]
  },
  {
   "cell_type": "code",
   "execution_count": 22,
   "id": "f63809702b1c7ab3",
   "metadata": {},
   "outputs": [
    {
     "name": "stderr",
     "output_type": "stream",
     "text": [
      "C:\\Users\\Naime Diler\\AppData\\Local\\Temp\\ipykernel_14576\\130684917.py:3: FutureWarning: Setting an item of incompatible dtype is deprecated and will raise in a future error of pandas. Value '-439.5' has dtype incompatible with int64, please explicitly cast to a compatible dtype first.\n",
      "  dataframe.loc[(dataframe[variable] < low_limit), variable] = low_limit\n"
     ]
    }
   ],
   "source": [
    "# replace: Unterdrückungsmethode:\n",
    "\n",
    "replace_with_thresholds(df, \"Insulin\")"
   ]
  },
  {
   "cell_type": "code",
   "execution_count": 23,
   "id": "1684243c",
   "metadata": {},
   "outputs": [],
   "source": [
    "# Um die Warnung zu vermeiden:\n",
    "\n",
    "import warnings\n",
    "warnings.simplefilter(action=\"ignore\")\n",
    "\n",
    "replace_with_thresholds(df, \"Insulin\")"
   ]
  },
  {
   "cell_type": "code",
   "execution_count": 24,
   "id": "1bba3105e890769b",
   "metadata": {},
   "outputs": [
    {
     "name": "stdout",
     "output_type": "stream",
     "text": [
      "Pregnancies False\n",
      "Glucose False\n",
      "BloodPressure False\n",
      "SkinThickness False\n",
      "Insulin False\n",
      "BMI False\n",
      "DiabetesPedigreeFunction False\n",
      "Age False\n"
     ]
    }
   ],
   "source": [
    "for col in cols:\n",
    "    print(col, check_outlier(df, col))\n",
    "    "
   ]
  },
  {
   "cell_type": "markdown",
   "id": "7bf95a61",
   "metadata": {},
   "source": [
    "Ein weiterer Schritt in der Datenverarbeitung besteht darin, die Variablen zu skalieren, um sie zu standardisieren. \n",
    "\n",
    "Hinweis:\n",
    "\n",
    "\n",
    "In linearen und distanzbasierten Methoden sowie bei Verfahren, die den Gradientenabstieg nutzen, ist die Standardisierung üblicherweise von großer Bedeutung und erfordert besondere Aufmerksamkeit. Die Standardisierung ist aus zwei Gründen wichtig: Erstens muss sichergestellt werden, dass die Modelle gleichermaßen auf die Variablen reagieren. Zum Beispiel darf kein inhärenter Vorteil größerer Werte gegenüber kleineren angenommen werden, weshalb eine Standardisierung erforderlich ist. Zweitens wird die Skalierung der Variablen bevorzugt, um eine schnellere und genauere Arbeit der Parameterschätzmethoden zu ermöglichen."
   ]
  },
  {
   "cell_type": "code",
   "execution_count": 25,
   "id": "85bfc36527b55434",
   "metadata": {},
   "outputs": [],
   "source": [
    "for col in cols:\n",
    "    df[col] = RobustScaler().fit_transform(df[[col]])"
   ]
  },
  {
   "cell_type": "markdown",
   "id": "d9db7353",
   "metadata": {},
   "source": [
    "Die 'cols' repräsentieren die unabhängigen Variablen. Der RobustScaler subtrahiert den Median aller Beobachtungseinheiten und teilt durch den Interquartilsabstand (Interquartile Range, IQR). Im Vergleich zum StandardScaler ist der RobustScaler robuster gegenüber Ausreißern. Obwohl eine leichte Bereinigung der Daten erfolgte, wurde der RobustScaler bevorzugt, da er wie der StandardScaler verwendet werden kann. Alternativ könnte auch der MinMaxScaler verwendet werden, um die Werte zwischen 0 und 1 zu bringen. Die Entscheidung für den RobustScaler wurde aufgrund seiner Robustheit gegenüber Ausreißern getroffen. Daher wurden alle Merkmale des Datensatzes durch diesen Scaler transformiert."
   ]
  },
  {
   "cell_type": "code",
   "execution_count": 26,
   "id": "3359eb1327a94a05",
   "metadata": {},
   "outputs": [
    {
     "data": {
      "text/html": [
       "<div>\n",
       "<style scoped>\n",
       "    .dataframe tbody tr th:only-of-type {\n",
       "        vertical-align: middle;\n",
       "    }\n",
       "\n",
       "    .dataframe tbody tr th {\n",
       "        vertical-align: top;\n",
       "    }\n",
       "\n",
       "    .dataframe thead th {\n",
       "        text-align: right;\n",
       "    }\n",
       "</style>\n",
       "<table border=\"1\" class=\"dataframe\">\n",
       "  <thead>\n",
       "    <tr style=\"text-align: right;\">\n",
       "      <th></th>\n",
       "      <th>Pregnancies</th>\n",
       "      <th>Glucose</th>\n",
       "      <th>BloodPressure</th>\n",
       "      <th>SkinThickness</th>\n",
       "      <th>Insulin</th>\n",
       "      <th>BMI</th>\n",
       "      <th>DiabetesPedigreeFunction</th>\n",
       "      <th>Age</th>\n",
       "      <th>Outcome</th>\n",
       "    </tr>\n",
       "  </thead>\n",
       "  <tbody>\n",
       "    <tr>\n",
       "      <th>0</th>\n",
       "      <td>0.600</td>\n",
       "      <td>0.752</td>\n",
       "      <td>0.000</td>\n",
       "      <td>0.375</td>\n",
       "      <td>-0.240</td>\n",
       "      <td>0.172</td>\n",
       "      <td>0.665</td>\n",
       "      <td>1.235</td>\n",
       "      <td>1</td>\n",
       "    </tr>\n",
       "    <tr>\n",
       "      <th>1</th>\n",
       "      <td>-0.400</td>\n",
       "      <td>-0.776</td>\n",
       "      <td>-0.333</td>\n",
       "      <td>0.188</td>\n",
       "      <td>-0.240</td>\n",
       "      <td>-0.581</td>\n",
       "      <td>-0.056</td>\n",
       "      <td>0.118</td>\n",
       "      <td>0</td>\n",
       "    </tr>\n",
       "    <tr>\n",
       "      <th>2</th>\n",
       "      <td>1.000</td>\n",
       "      <td>1.600</td>\n",
       "      <td>-0.444</td>\n",
       "      <td>-0.719</td>\n",
       "      <td>-0.240</td>\n",
       "      <td>-0.935</td>\n",
       "      <td>0.783</td>\n",
       "      <td>0.176</td>\n",
       "      <td>1</td>\n",
       "    </tr>\n",
       "    <tr>\n",
       "      <th>3</th>\n",
       "      <td>-0.400</td>\n",
       "      <td>-0.679</td>\n",
       "      <td>-0.333</td>\n",
       "      <td>0.000</td>\n",
       "      <td>0.499</td>\n",
       "      <td>-0.419</td>\n",
       "      <td>-0.537</td>\n",
       "      <td>-0.471</td>\n",
       "      <td>0</td>\n",
       "    </tr>\n",
       "    <tr>\n",
       "      <th>4</th>\n",
       "      <td>-0.600</td>\n",
       "      <td>0.485</td>\n",
       "      <td>-1.778</td>\n",
       "      <td>0.375</td>\n",
       "      <td>1.081</td>\n",
       "      <td>1.194</td>\n",
       "      <td>5.008</td>\n",
       "      <td>0.235</td>\n",
       "      <td>1</td>\n",
       "    </tr>\n",
       "  </tbody>\n",
       "</table>\n",
       "</div>"
      ],
      "text/plain": [
       "   Pregnancies  Glucose  BloodPressure  SkinThickness  Insulin    BMI  DiabetesPedigreeFunction    Age  Outcome\n",
       "0        0.600    0.752          0.000          0.375   -0.240  0.172                     0.665  1.235        1\n",
       "1       -0.400   -0.776         -0.333          0.188   -0.240 -0.581                    -0.056  0.118        0\n",
       "2        1.000    1.600         -0.444         -0.719   -0.240 -0.935                     0.783  0.176        1\n",
       "3       -0.400   -0.679         -0.333          0.000    0.499 -0.419                    -0.537 -0.471        0\n",
       "4       -0.600    0.485         -1.778          0.375    1.081  1.194                     5.008  0.235        1"
      ]
     },
     "execution_count": 26,
     "metadata": {},
     "output_type": "execute_result"
    }
   ],
   "source": [
    "df.head()"
   ]
  },
  {
   "cell_type": "markdown",
   "id": "51c04f6f5d6c49a",
   "metadata": {},
   "source": [
    "# Model & Prediction"
   ]
  },
  {
   "cell_type": "markdown",
   "id": "c5e2b5ee",
   "metadata": {},
   "source": [
    "Erinnerung:\n",
    "    \n",
    "Das Ziel besteht darin, mittels der logistischen Regressionsmethode die Beziehung zwischen unabhängigen und abhängigen Variablen zu modellieren. Dabei ging es darum, basierend auf den Merkmalen von Personen Vorhersagen über das Vorhandensein von Diabetes zu treffen."
   ]
  },
  {
   "cell_type": "code",
   "execution_count": 27,
   "id": "c2beda3e866340a3",
   "metadata": {},
   "outputs": [],
   "source": [
    "y = df[\"Outcome\"]\n",
    "\n",
    "X = df.drop([\"Outcome\"], axis=1)"
   ]
  },
  {
   "cell_type": "code",
   "execution_count": 28,
   "id": "99003dcc018abee8",
   "metadata": {},
   "outputs": [],
   "source": [
    "log_model = LogisticRegression().fit(X, y)"
   ]
  },
  {
   "cell_type": "markdown",
   "id": "1b4fcf53",
   "metadata": {},
   "source": [
    "Frage: Wie erhält man den Intercept dieses Modells?\n",
    "\n",
    "Der Intercept kann auch als Bias oder Beta-Koeffizient bezeichnet werden. Es handelt sich jedoch nicht genau um einen Koeffizienten, da keine Abhängigkeit von\n",
    "einer Variablen besteht.\n",
    "\n",
    "Antwort:"
   ]
  },
  {
   "cell_type": "code",
   "execution_count": 29,
   "id": "27edb883452befa3",
   "metadata": {},
   "outputs": [
    {
     "data": {
      "text/plain": [
       "array([-1.23439588])"
      ]
     },
     "execution_count": 29,
     "metadata": {},
     "output_type": "execute_result"
    }
   ],
   "source": [
    "log_model.intercept_"
   ]
  },
  {
   "cell_type": "markdown",
   "id": "1c912a1c",
   "metadata": {},
   "source": [
    "Für die Betrachtung der Koeffizienten der anderen Variablen, beziehungsweise ihrer Gewichte, kann der Ausdruck coef_ verwendet werden. Hierbei handelt es sich um\n",
    "die Gewichte der unabhängigen Variablen."
   ]
  },
  {
   "cell_type": "code",
   "execution_count": 30,
   "id": "32db510548044321",
   "metadata": {},
   "outputs": [
    {
     "data": {
      "text/plain": [
       "array([[ 0.59906785,  1.41770936, -0.23152362,  0.01973855, -0.14571255,\n",
       "         0.81741997,  0.35522795,  0.25655154]])"
      ]
     },
     "execution_count": 30,
     "metadata": {},
     "output_type": "execute_result"
    }
   ],
   "source": [
    "log_model.coef_"
   ]
  },
  {
   "cell_type": "markdown",
   "id": "4127d162",
   "metadata": {},
   "source": [
    "Wie lautet die Gleichung dieses Modells?\n",
    "\n",
    "y_pred = b + w1*x1 + w2*x2 + ... + wn*xn \n",
    "\n",
    "In dieser Formel sind die Gewichte und die Konstante, dargestellt als Koeffizienten und Interzept, enthalten."
   ]
  },
  {
   "cell_type": "markdown",
   "id": "e0756c69",
   "metadata": {},
   "source": [
    "Die Prognose wird nun unter Verwendung dieses Modells durchgeführt."
   ]
  },
  {
   "cell_type": "code",
   "execution_count": 31,
   "id": "58109c44a4318b07",
   "metadata": {},
   "outputs": [],
   "source": [
    "y_pred = log_model.predict(X)"
   ]
  },
  {
   "cell_type": "code",
   "execution_count": 32,
   "id": "2da11bd45e11c34c",
   "metadata": {},
   "outputs": [
    {
     "data": {
      "text/plain": [
       "array([1, 0, 1, 0, 1, 0, 0, 1, 1, 0], dtype=int64)"
      ]
     },
     "execution_count": 32,
     "metadata": {},
     "output_type": "execute_result"
    }
   ],
   "source": [
    "# Zur Veranschaulichung werden die ersten zehn geschätzten Werte betrachtet.\n",
    "\n",
    "y_pred[0:10]"
   ]
  },
  {
   "cell_type": "code",
   "execution_count": 33,
   "id": "4d63662fa3dd6e4a",
   "metadata": {},
   "outputs": [
    {
     "data": {
      "text/plain": [
       "0    1\n",
       "1    0\n",
       "2    1\n",
       "3    0\n",
       "4    1\n",
       "5    0\n",
       "6    1\n",
       "7    0\n",
       "8    1\n",
       "9    1\n",
       "Name: Outcome, dtype: int64"
      ]
     },
     "execution_count": 33,
     "metadata": {},
     "output_type": "execute_result"
    }
   ],
   "source": [
    "# y repräsentierte die tatsächlichen Werte:\n",
    "\n",
    "y[0:10]\n",
    "\n",
    "# Es zeigt sich, dass gelegentlich richtige Vorhersagen getroffen werden, während dies manchmal nicht der Fall ist."
   ]
  },
  {
   "cell_type": "markdown",
   "id": "861c0c8a",
   "metadata": {},
   "source": [
    "Ein Modell wurde auf dem gesamten Datensatz trainiert und befindet sich noch im Evaluierungsprozess. Die Modellbildung ist abgeschlossen. Vor dem Hintergrund der vorhandenen Vorhersagen und realen Werte wird nun die Wirksamkeit der Vorhersagen überprüft. Im nächsten Schritt erfolgt die Bewertung der Modellleistung."
   ]
  },
  {
   "cell_type": "markdown",
   "id": "dcd90ddb941869b4",
   "metadata": {},
   "source": [
    "# Model Evaluation "
   ]
  },
  {
   "cell_type": "markdown",
   "id": "fd76e717",
   "metadata": {},
   "source": [
    "Die verfügbaren Daten bestehen aus den realen Werten (y) und den prognostizierten Werten (y_pred), welche die Grundlage für eine objektive Leistungsbewertung\n",
    "bilden. Mithilfe der Konfusionsmatrix können Kennzahlen wie Präzision, Rückruf (Recall), F1-Score und Genauigkeit abgeleitet werden, welche für die Bewertung\n",
    "dieser Leistung entscheidend sind."
   ]
  },
  {
   "cell_type": "code",
   "execution_count": 34,
   "id": "c770fa4df6c871ef",
   "metadata": {},
   "outputs": [
    {
     "data": {
      "image/png": "[encoded data removed]",
      "text/plain": [
       "<Figure size 640x480 with 2 Axes>"
      ]
     },
     "metadata": {},
     "output_type": "display_data"
    }
   ],
   "source": [
    "# Visualisierung der Konfusionsmatrix:\n",
    "\n",
    "def plot_confusion_matrix(y, y_pred):\n",
    "    acc = round(accuracy_score(y, y_pred), 2)\n",
    "    cm = confusion_matrix(y, y_pred)\n",
    "    sns.heatmap(cm, annot=True, fmt=\".0f\")\n",
    "    plt.xlabel('y_pred')\n",
    "    plt.ylabel('y')\n",
    "    plt.title('Accuracy Score: {0}'.format(acc), size=10)\n",
    "    plt.show(block=True)\n",
    "    \n",
    "    \n",
    "plot_confusion_matrix(y, y_pred)"
   ]
  },
  {
   "cell_type": "markdown",
   "id": "ef295ec7",
   "metadata": {},
   "source": [
    "Hinweis:\n",
    "    \n",
    " - \"Accuracy\" oder \"Genauigkeit\" ist die Rate der korrekten Klassifizierung in einem Klassifizierungsmodell.\n",
    " - Die precision ist ein Maß dafür, wie genau ein Modell positive Vorhersagen trifft, d.h. wie viele der als positiv vorhergesagten Fälle tatsächlich positiv sind.\n",
    " - Der recall ist ein Maß dafür, wie viele der tatsächlich positiven Fälle vom Modell korrekt identifiziert wurden.\n",
    " - Der F1-Score wird aus precision und recall berechnet und verwendet die harmonische Mittel, um ein ausgewogenes Maß für die Modellleistung zu erhalten.\n",
    "\n",
    "Rechnung:\n",
    "Precision: 156 / (156+54)\n",
    "Recall: 156 / (156 + 112)\n",
    "Accuracy: (156+446) / alle Beobachtungen (768)"
   ]
  },
  {
   "cell_type": "code",
   "execution_count": 35,
   "id": "6f1d255a7237bf9a",
   "metadata": {},
   "outputs": [
    {
     "name": "stdout",
     "output_type": "stream",
     "text": [
      "              precision    recall  f1-score   support\n",
      "\n",
      "           0       0.80      0.89      0.84       500\n",
      "           1       0.74      0.58      0.65       268\n",
      "\n",
      "    accuracy                           0.78       768\n",
      "   macro avg       0.77      0.74      0.75       768\n",
      "weighted avg       0.78      0.78      0.78       768\n",
      "\n"
     ]
    }
   ],
   "source": [
    "print(classification_report(y, y_pred))"
   ]
  },
  {
   "cell_type": "markdown",
   "id": "00e0827e",
   "metadata": {},
   "source": [
    "Die ROC-AUC (Receiver Operating Characteristic - Area Under Curve) ist eine Metrik zur Bewertung der Leistung eines Klassifizierungsmodells, indem sie den Bereich unter der ROC-Kurve misst. Die ROC-Kurve zeigt die Leistung des Modells bei verschiedenen Klassifizierungsschwellenwerten, während die AUC angibt, wie gut das Modell in der Lage ist, zwischen den Klassen zu unterscheiden, unabhängig von der gewählten Schwellenwert.\n",
    "\n",
    "Die Berechnung dieser Metrik erfordert geschätzte Wahrscheinlichkeitswerte für das Eintreten der Klasse 1 der abhängigen Variablen. Dies ist notwendig, da sich die Schwellenwerte möglicherweise ändern. Beispielsweise: Welche Erfolgsrate haben wir bei einer Klassifizierungsschwelle von 0,4? Und bei 0,5? Oder bei 0,7? Die Berechnung basiert auf diesen potenziellen Schwellenwerten, ähnlich wie bei der ROC-Kurve und der AUC. Daher sind die Wahrscheinlichkeiten für das Eintreten der Klasse 1 entscheidend. Nach Erhalt dieser Werte kann der AUC-Score mithilfe der Methode roc_auc_score ermittelt werden. Zu beachten ist, dass das Modell sowohl mit Trainings- als auch mit Testdaten validiert wurde, was zusätzliche Überprüfungen erfordert. Validierungsmethoden für Modelle werden im nächsten Abschnitt erörtert."
   ]
  },
  {
   "cell_type": "code",
   "execution_count": 36,
   "id": "7aa182e06c79b7e6",
   "metadata": {},
   "outputs": [
    {
     "data": {
      "text/plain": [
       "0.8393955223880598"
      ]
     },
     "execution_count": 36,
     "metadata": {},
     "output_type": "execute_result"
    }
   ],
   "source": [
    "# ROC AUC   \n",
    "y_prob = log_model.predict_proba(X)[:, 1]\n",
    "roc_auc_score(y, y_prob)\n",
    "\n",
    "# 0,83939 bedeutet, dass eine Vorhersagegenauigkeit von etwa 84 % besteht."
   ]
  },
  {
   "cell_type": "markdown",
   "id": "c957f07d63f7adb5",
   "metadata": {},
   "source": [
    "# Model Validation: Holdout"
   ]
  },
  {
   "cell_type": "markdown",
   "id": "3d52e6b9",
   "metadata": {},
   "source": [
    "\"Hold-out\": Man teilte den Datensatz in zwei Teile auf, wobei ein Teil zum Trainieren des Modells und der andere Teil zum Testen des Modells verwendet wird."
   ]
  },
  {
   "cell_type": "code",
   "execution_count": 37,
   "id": "520abf435da013e1",
   "metadata": {},
   "outputs": [],
   "source": [
    "# X repräsentiert unabhängige Variablen, während y die abhängige Variable darstellt.\n",
    "\n",
    "X_train, X_test, y_train, y_test = train_test_split(X,\n",
    "                                                    y,\n",
    "                                                    test_size=0.20, random_state=17)"
   ]
  },
  {
   "cell_type": "code",
   "execution_count": 38,
   "id": "8b566d57797268fe",
   "metadata": {},
   "outputs": [],
   "source": [
    "# Modellbildung auf dem Trainingsdatensatz:\n",
    "\n",
    "log_model = LogisticRegression().fit(X_train, y_train)"
   ]
  },
  {
   "cell_type": "code",
   "execution_count": 39,
   "id": "9d737dcb9ae421f0",
   "metadata": {},
   "outputs": [],
   "source": [
    "# Testdatensatz dem Modell vorlegen:\n",
    "\n",
    "# Vorhersagen sollen anhand unbenutzter Daten getroffen werden. Diese enthalten unabhängige Variablen wie die Anzahl der Schwangerschaften und den BMI-Wert. Das Zie\n",
    "# ist es, zu bestimmen, ob die Personen an Diabetes leiden oder nicht. Anschließend werden diese Vorhersagen mit den tatsächlichen Werten verglichen.\n",
    "\n",
    "y_pred = log_model.predict(X_test) # Die geschätzten Werte sind angekommen. Da die tatsächlichen Werte ebenfalls vorliegen, werden beide miteinander verglichen."
   ]
  },
  {
   "cell_type": "code",
   "execution_count": 40,
   "id": "89646fc4690ab51c",
   "metadata": {},
   "outputs": [],
   "source": [
    "# Für die AUC-Berechnung werden nun neben den geschätzten Werten auch die Wahrscheinlichkeiten für die Zugehörigkeit zur Klasse 1 erfasst. Die unabhängigen\n",
    "# Variablenwerte wurden bereits übermittelt, und im Gegenzug werden die Wahrscheinlichkeitswerte erwartet.\n",
    "\n",
    "y_prob = log_model.predict_proba(X_test)[:, 1] # Die Syntax \"[:,1]\" wird verwendet, um nur die Wahrscheinlichkeiten für das Eintreten der Klasse 1 aus dem\n",
    "# Ausgabearray von \"predict_proba()\" zu extrahieren."
   ]
  },
  {
   "cell_type": "code",
   "execution_count": 41,
   "id": "952462f46f2a6e40",
   "metadata": {},
   "outputs": [
    {
     "name": "stdout",
     "output_type": "stream",
     "text": [
      "              precision    recall  f1-score   support\n",
      "\n",
      "           0       0.77      0.92      0.84        97\n",
      "           1       0.79      0.53      0.63        57\n",
      "\n",
      "    accuracy                           0.77       154\n",
      "   macro avg       0.78      0.72      0.73       154\n",
      "weighted avg       0.78      0.77      0.76       154\n",
      "\n"
     ]
    }
   ],
   "source": [
    "# Nun erfolgt die Bewertung der Leistung. Zuvor wurde die Methode \"Classification Report\" verwendet. Diese wird nun erneut verwendet. Dabei sind y_pred die gerade\n",
    "# geschätzten Werte und y_test die echten y-Werte im Testdatensatz. Es handelt sich dabei um den Teil des Datensatzes, den das Modell nicht gesehen hat.\n",
    "\n",
    "print(classification_report(y_test, y_pred))"
   ]
  },
  {
   "cell_type": "markdown",
   "id": "3dcbb9e6",
   "metadata": {},
   "source": [
    "Hier sind die vorherigen Werte:\n",
    "\n",
    "Accuracy: 0.78\n",
    "Precision: 0.74\n",
    "Recall: 0.58\n",
    "F1-score: 0.65"
   ]
  },
  {
   "cell_type": "markdown",
   "id": "4cdb2881",
   "metadata": {},
   "source": [
    "Diese Metriken beziehen sich auf die Klasse 1:\n",
    "\n",
    "Accuracy: 0.77\n",
    "Precision: 0.79\n",
    "Recall: 0.53\n",
    "F1-score: 0.63"
   ]
  },
  {
   "cell_type": "code",
   "execution_count": 42,
   "id": "db0c8da259931268",
   "metadata": {},
   "outputs": [
    {
     "ename": "InvalidParameterError",
     "evalue": "The 'pos_label' parameter of roc_curve must be an instance of 'float', an instance of 'str', an instance of 'bool', an instance of 'numpy.bool_' or an instance of 'int' or None. Got LogisticRegression() instead.",
     "output_type": "error",
     "traceback": [
      "\u001b[1;31m---------------------------------------------------------------------------\u001b[0m",
      "\u001b[1;31mInvalidParameterError\u001b[0m                     Traceback (most recent call last)",
      "Cell \u001b[1;32mIn[42], line 1\u001b[0m\n\u001b[1;32m----> 1\u001b[0m \u001b[43mplot_roc_curve\u001b[49m\u001b[43m(\u001b[49m\u001b[43mlog_model\u001b[49m\u001b[43m,\u001b[49m\u001b[43m \u001b[49m\u001b[43mX_test\u001b[49m\u001b[43m,\u001b[49m\u001b[43m \u001b[49m\u001b[43my_test\u001b[49m\u001b[43m)\u001b[49m\n\u001b[0;32m      2\u001b[0m plt\u001b[38;5;241m.\u001b[39mtitle(\u001b[38;5;124m'\u001b[39m\u001b[38;5;124mROC Curve\u001b[39m\u001b[38;5;124m'\u001b[39m)\n\u001b[0;32m      3\u001b[0m plt\u001b[38;5;241m.\u001b[39mplot([\u001b[38;5;241m0\u001b[39m, \u001b[38;5;241m1\u001b[39m], [\u001b[38;5;241m0\u001b[39m, \u001b[38;5;241m1\u001b[39m], \u001b[38;5;124m'\u001b[39m\u001b[38;5;124mr--\u001b[39m\u001b[38;5;124m'\u001b[39m)\n",
      "File \u001b[1;32m~\\anaconda3\\lib\\site-packages\\sklearn\\utils\\deprecation.py:87\u001b[0m, in \u001b[0;36mdeprecated._decorate_fun.<locals>.wrapped\u001b[1;34m(*args, **kwargs)\u001b[0m\n\u001b[0;32m     84\u001b[0m \u001b[38;5;129m@functools\u001b[39m\u001b[38;5;241m.\u001b[39mwraps(fun)\n\u001b[0;32m     85\u001b[0m \u001b[38;5;28;01mdef\u001b[39;00m \u001b[38;5;21mwrapped\u001b[39m(\u001b[38;5;241m*\u001b[39margs, \u001b[38;5;241m*\u001b[39m\u001b[38;5;241m*\u001b[39mkwargs):\n\u001b[0;32m     86\u001b[0m     warnings\u001b[38;5;241m.\u001b[39mwarn(msg, category\u001b[38;5;241m=\u001b[39m\u001b[38;5;167;01mFutureWarning\u001b[39;00m)\n\u001b[1;32m---> 87\u001b[0m     \u001b[38;5;28;01mreturn\u001b[39;00m fun(\u001b[38;5;241m*\u001b[39margs, \u001b[38;5;241m*\u001b[39m\u001b[38;5;241m*\u001b[39mkwargs)\n",
      "File \u001b[1;32m~\\anaconda3\\lib\\site-packages\\scikitplot\\metrics.py:257\u001b[0m, in \u001b[0;36mplot_roc_curve\u001b[1;34m(y_true, y_probas, title, curves, ax, figsize, cmap, title_fontsize, text_fontsize)\u001b[0m\n\u001b[0;32m    255\u001b[0m roc_auc \u001b[38;5;241m=\u001b[39m \u001b[38;5;28mdict\u001b[39m()\n\u001b[0;32m    256\u001b[0m \u001b[38;5;28;01mfor\u001b[39;00m i \u001b[38;5;129;01min\u001b[39;00m \u001b[38;5;28mrange\u001b[39m(\u001b[38;5;28mlen\u001b[39m(classes)):\n\u001b[1;32m--> 257\u001b[0m     fpr[i], tpr[i], _ \u001b[38;5;241m=\u001b[39m \u001b[43mroc_curve\u001b[49m\u001b[43m(\u001b[49m\u001b[43my_true\u001b[49m\u001b[43m,\u001b[49m\u001b[43m \u001b[49m\u001b[43mprobas\u001b[49m\u001b[43m[\u001b[49m\u001b[43m:\u001b[49m\u001b[43m,\u001b[49m\u001b[43m \u001b[49m\u001b[43mi\u001b[49m\u001b[43m]\u001b[49m\u001b[43m,\u001b[49m\n\u001b[0;32m    258\u001b[0m \u001b[43m                                  \u001b[49m\u001b[43mpos_label\u001b[49m\u001b[38;5;241;43m=\u001b[39;49m\u001b[43mclasses\u001b[49m\u001b[43m[\u001b[49m\u001b[43mi\u001b[49m\u001b[43m]\u001b[49m\u001b[43m)\u001b[49m\n\u001b[0;32m    259\u001b[0m     roc_auc[i] \u001b[38;5;241m=\u001b[39m auc(fpr[i], tpr[i])\n\u001b[0;32m    261\u001b[0m \u001b[38;5;66;03m# Compute micro-average ROC curve and ROC area\u001b[39;00m\n",
      "File \u001b[1;32m~\\anaconda3\\lib\\site-packages\\sklearn\\utils\\_param_validation.py:201\u001b[0m, in \u001b[0;36mvalidate_params.<locals>.decorator.<locals>.wrapper\u001b[1;34m(*args, **kwargs)\u001b[0m\n\u001b[0;32m    198\u001b[0m to_ignore \u001b[38;5;241m+\u001b[39m\u001b[38;5;241m=\u001b[39m [\u001b[38;5;124m\"\u001b[39m\u001b[38;5;124mself\u001b[39m\u001b[38;5;124m\"\u001b[39m, \u001b[38;5;124m\"\u001b[39m\u001b[38;5;124mcls\u001b[39m\u001b[38;5;124m\"\u001b[39m]\n\u001b[0;32m    199\u001b[0m params \u001b[38;5;241m=\u001b[39m {k: v \u001b[38;5;28;01mfor\u001b[39;00m k, v \u001b[38;5;129;01min\u001b[39;00m params\u001b[38;5;241m.\u001b[39marguments\u001b[38;5;241m.\u001b[39mitems() \u001b[38;5;28;01mif\u001b[39;00m k \u001b[38;5;129;01mnot\u001b[39;00m \u001b[38;5;129;01min\u001b[39;00m to_ignore}\n\u001b[1;32m--> 201\u001b[0m \u001b[43mvalidate_parameter_constraints\u001b[49m\u001b[43m(\u001b[49m\n\u001b[0;32m    202\u001b[0m \u001b[43m    \u001b[49m\u001b[43mparameter_constraints\u001b[49m\u001b[43m,\u001b[49m\u001b[43m \u001b[49m\u001b[43mparams\u001b[49m\u001b[43m,\u001b[49m\u001b[43m \u001b[49m\u001b[43mcaller_name\u001b[49m\u001b[38;5;241;43m=\u001b[39;49m\u001b[43mfunc\u001b[49m\u001b[38;5;241;43m.\u001b[39;49m\u001b[38;5;18;43m__qualname__\u001b[39;49m\n\u001b[0;32m    203\u001b[0m \u001b[43m\u001b[49m\u001b[43m)\u001b[49m\n\u001b[0;32m    205\u001b[0m \u001b[38;5;28;01mtry\u001b[39;00m:\n\u001b[0;32m    206\u001b[0m     \u001b[38;5;28;01mwith\u001b[39;00m config_context(\n\u001b[0;32m    207\u001b[0m         skip_parameter_validation\u001b[38;5;241m=\u001b[39m(\n\u001b[0;32m    208\u001b[0m             prefer_skip_nested_validation \u001b[38;5;129;01mor\u001b[39;00m global_skip_validation\n\u001b[0;32m    209\u001b[0m         )\n\u001b[0;32m    210\u001b[0m     ):\n",
      "File \u001b[1;32m~\\anaconda3\\lib\\site-packages\\sklearn\\utils\\_param_validation.py:95\u001b[0m, in \u001b[0;36mvalidate_parameter_constraints\u001b[1;34m(parameter_constraints, params, caller_name)\u001b[0m\n\u001b[0;32m     89\u001b[0m \u001b[38;5;28;01melse\u001b[39;00m:\n\u001b[0;32m     90\u001b[0m     constraints_str \u001b[38;5;241m=\u001b[39m (\n\u001b[0;32m     91\u001b[0m         \u001b[38;5;124mf\u001b[39m\u001b[38;5;124m\"\u001b[39m\u001b[38;5;132;01m{\u001b[39;00m\u001b[38;5;124m'\u001b[39m\u001b[38;5;124m, \u001b[39m\u001b[38;5;124m'\u001b[39m\u001b[38;5;241m.\u001b[39mjoin([\u001b[38;5;28mstr\u001b[39m(c)\u001b[38;5;250m \u001b[39m\u001b[38;5;28;01mfor\u001b[39;00m\u001b[38;5;250m \u001b[39mc\u001b[38;5;250m \u001b[39m\u001b[38;5;129;01min\u001b[39;00m\u001b[38;5;250m \u001b[39mconstraints[:\u001b[38;5;241m-\u001b[39m\u001b[38;5;241m1\u001b[39m]])\u001b[38;5;132;01m}\u001b[39;00m\u001b[38;5;124m or\u001b[39m\u001b[38;5;124m\"\u001b[39m\n\u001b[0;32m     92\u001b[0m         \u001b[38;5;124mf\u001b[39m\u001b[38;5;124m\"\u001b[39m\u001b[38;5;124m \u001b[39m\u001b[38;5;132;01m{\u001b[39;00mconstraints[\u001b[38;5;241m-\u001b[39m\u001b[38;5;241m1\u001b[39m]\u001b[38;5;132;01m}\u001b[39;00m\u001b[38;5;124m\"\u001b[39m\n\u001b[0;32m     93\u001b[0m     )\n\u001b[1;32m---> 95\u001b[0m \u001b[38;5;28;01mraise\u001b[39;00m InvalidParameterError(\n\u001b[0;32m     96\u001b[0m     \u001b[38;5;124mf\u001b[39m\u001b[38;5;124m\"\u001b[39m\u001b[38;5;124mThe \u001b[39m\u001b[38;5;132;01m{\u001b[39;00mparam_name\u001b[38;5;132;01m!r}\u001b[39;00m\u001b[38;5;124m parameter of \u001b[39m\u001b[38;5;132;01m{\u001b[39;00mcaller_name\u001b[38;5;132;01m}\u001b[39;00m\u001b[38;5;124m must be\u001b[39m\u001b[38;5;124m\"\u001b[39m\n\u001b[0;32m     97\u001b[0m     \u001b[38;5;124mf\u001b[39m\u001b[38;5;124m\"\u001b[39m\u001b[38;5;124m \u001b[39m\u001b[38;5;132;01m{\u001b[39;00mconstraints_str\u001b[38;5;132;01m}\u001b[39;00m\u001b[38;5;124m. Got \u001b[39m\u001b[38;5;132;01m{\u001b[39;00mparam_val\u001b[38;5;132;01m!r}\u001b[39;00m\u001b[38;5;124m instead.\u001b[39m\u001b[38;5;124m\"\u001b[39m\n\u001b[0;32m     98\u001b[0m )\n",
      "\u001b[1;31mInvalidParameterError\u001b[0m: The 'pos_label' parameter of roc_curve must be an instance of 'float', an instance of 'str', an instance of 'bool', an instance of 'numpy.bool_' or an instance of 'int' or None. Got LogisticRegression() instead."
     ]
    }
   ],
   "source": [
    "plot_roc_curve(log_model, X_test, y_test)\n",
    "plt.title('ROC Curve')\n",
    "plt.plot([0, 1], [0, 1], 'r--')\n",
    "plt.show()"
   ]
  },
  {
   "cell_type": "code",
   "execution_count": 43,
   "id": "e056b78b",
   "metadata": {},
   "outputs": [
    {
     "data": {
      "image/png": "[encoded data removed]",
      "text/plain": [
       "<Figure size 640x480 with 1 Axes>"
      ]
     },
     "metadata": {},
     "output_type": "display_data"
    }
   ],
   "source": [
    "from scikitplot.metrics import plot_roc_curve\n",
    "\n",
    "# Vorhersagen des Modells für Testdaten\n",
    "y_probas = log_model.predict_proba(X_test)\n",
    "\n",
    "# Plot der ROC-Kurve\n",
    "plot_roc_curve(y_test, y_probas)\n",
    "plt.title('ROC Curve')\n",
    "plt.plot([0, 1], [0, 1], 'r--')\n",
    "plt.show()\n"
   ]
  },
  {
   "cell_type": "code",
   "execution_count": 44,
   "id": "8ffa4627a0fe4a8f",
   "metadata": {},
   "outputs": [
    {
     "data": {
      "text/plain": [
       "0.8755652016639537"
      ]
     },
     "execution_count": 44,
     "metadata": {},
     "output_type": "execute_result"
    }
   ],
   "source": [
    "roc_auc_score(y_test, y_prob)"
   ]
  },
  {
   "cell_type": "markdown",
   "id": "e71558d4",
   "metadata": {},
   "source": [
    "Der zuvor berechnete AUC-Score lag bei etwa 0,84. Hier beträgt er 0,88. Der AUC-Score ist gestiegen, während der recall abgenommen hat. Eine Änderung des\n",
    "random_state-Parameters wird sich auf die Leistung des Modells auswirken. Eine erneute Überprüfung der Testfehler und des Klassifizierungsberichts ist\n",
    "erforderlich, um den Einfluss der Änderung des random_state zu bewerten:"
   ]
  },
  {
   "cell_type": "code",
   "execution_count": 45,
   "id": "2039550cc1114da5",
   "metadata": {},
   "outputs": [
    {
     "name": "stdout",
     "output_type": "stream",
     "text": [
      "              precision    recall  f1-score   support\n",
      "\n",
      "           0       0.75      0.90      0.82        92\n",
      "           1       0.80      0.56      0.66        62\n",
      "\n",
      "    accuracy                           0.77       154\n",
      "   macro avg       0.77      0.73      0.74       154\n",
      "weighted avg       0.77      0.77      0.76       154\n",
      "\n"
     ]
    }
   ],
   "source": [
    "X_train, X_test, y_train, y_test = train_test_split(X,\n",
    "                                                    y,\n",
    "                                                    test_size=0.20, random_state=987)\n",
    "log_model = LogisticRegression().fit(X_train, y_train)\n",
    "\n",
    "y_pred = log_model.predict(X_test)\n",
    "y_prob = log_model.predict_proba(X_test)[:, 1]\n",
    "\n",
    "print(classification_report(y_test, y_pred))"
   ]
  },
  {
   "cell_type": "markdown",
   "id": "23bf1258",
   "metadata": {},
   "source": [
    "Während der Evaluierung haben sich bestimmte Kennzahlen verändert. Die Genauigkeit (Accuracy) blieb konstant, jedoch zeigten die Precision, der Recall-Wert und der F1-Score Veränderungen. Obwohl das Modell validiert wurde, ist unklar, welche Daten für die Validierung verwendet wurden. Die Verwendung verschiedener Datensätze durch Änderung der Zahl bei \"random_state\" führt zu unterschiedlichen Ergebnissen. Die Anwendung der 10-fachen Kreuzvalidierungsmethode ermöglicht es, potenzielle Unterschiede zu berücksichtigen und das genannte Problem zu lösen."
   ]
  },
  {
   "cell_type": "markdown",
   "id": "8b2b5f8f7510e8ab",
   "metadata": {},
   "source": [
    "# Model Validation: 10-Fold Cross Validation"
   ]
  },
  {
   "cell_type": "markdown",
   "id": "4dba3e19",
   "metadata": {},
   "source": [
    "Die k-Fache Kreuzvalidierung ist eine Methode zur Bewertung der Leistung von Machine-Learning-Modellen. Bei der k-Fachen Kreuzvalidierung wird der Datensatz in k\n",
    "Teile aufgeteilt. Das Modell wird dann k-mal trainiert und getestet, wobei jedes Mal ein anderer Teil für Tests verwendet wird und die restlichen Teile für das\n",
    "Training dienen. Durchschnittlich werden die Testergebnisse aller Durchläufe verwendet, um die Leistung des Modells zu bewerten und mögliche Variationen zu\n",
    "berücksichtigen. Die Methode hilft, die Robustheit und Zuverlässigkeit des Modells zu prüfen und zu verbessern, indem sie verschiedene Szenarien und\n",
    "Datenkombinationen berücksichtigt."
   ]
  },
  {
   "cell_type": "code",
   "execution_count": 46,
   "id": "22a4fabb42d4a3a2",
   "metadata": {},
   "outputs": [],
   "source": [
    "y = df[\"Outcome\"]\n",
    "X = df.drop([\"Outcome\"], axis=1)"
   ]
  },
  {
   "cell_type": "markdown",
   "id": "519ad1ba",
   "metadata": {},
   "source": [
    "Zwei Ansätze zur Evaluierung der Leistung von Machine-Learning-Modellen: Wenn der Datensatz groß ist, wird empfohlen, ihn in Trainings- und Testdaten aufzuteilen,\n",
    "eine 10-fache Kreuzvalidierung auf dem Trainingsdatensatz durchzuführen und dann die Leistung des Modells anhand des Testdatensatzes zu überprüfen. Wenn der\n",
    "Datensatz jedoch klein ist, kann der gesamte Datensatz für das Training und die Kreuzvalidierung verwendet werden. Beide Ansätze dienen dazu, die Modellleistung zu\n",
    "bewerten, wobei die Wahl des Ansatzes von der Größe des Datensatzes abhängt.\n",
    "\n",
    "In diesem Fall wird der gesamte Datensatz für das Training des Modells genutzt. Das bedeutet, dass das Modell auf dem gesamten Datensatz trainiert wird, ohne eine\n",
    "Aufteilung in Trainings- und Testdaten vorzunehmen."
   ]
  },
  {
   "cell_type": "code",
   "execution_count": 47,
   "id": "31326b7aa034fa2f",
   "metadata": {},
   "outputs": [],
   "source": [
    "log_model = LogisticRegression().fit(X, y)"
   ]
  },
  {
   "cell_type": "markdown",
   "id": "1b24775b",
   "metadata": {},
   "source": [
    "Der Prozess der Kreuzvalidierung (Cross Validation) zur Bewertung eines Machine-Learning-Modells verläuft wie folgt: die Methode cross_validate wird verwendet, um\n",
    "das Modell zu trainieren und zu testen. Die cross_validate-Methode erfordert die Angabe eines Modells, der unabhängigen Variablen sowie die Anzahl der Folds für\n",
    "die Kreuzvalidierung. Sie ermöglicht es auch, verschiedene Erfolgsmetriken wie accuracy, precision, recall, F1-Score und AUC-Wert zu berechnen."
   ]
  },
  {
   "cell_type": "code",
   "execution_count": 48,
   "id": "c4ab0f8c58c007ab",
   "metadata": {},
   "outputs": [],
   "source": [
    "cv_results = cross_validate(log_model,\n",
    "                            X, y,\n",
    "                            cv=5,\n",
    "                            scoring=[\"accuracy\", \"precision\", \"recall\", \"f1\", \"roc_auc\"])"
   ]
  },
  {
   "cell_type": "markdown",
   "id": "b2bc88e9",
   "metadata": {},
   "source": [
    "Analyse der Kreuzvalidierungsergebnisse: \n",
    "    \n",
    "Es wurden fünf Testläufe durchgeführt, wobei jeweils vier Teile für das Training und einer für den Test verwendet wurden. Nach jedem Testlauf wurden die\n",
    "Testergebnisse, insbesondere die Testgenauigkeiten, überprüft. Durch die Berechnung des Durchschnitts der Testergebnisse erhält man eine Metrik, die die Leistung\n",
    "des Modells über alle Testläufe hinweg zusammenfasst:"
   ]
  },
  {
   "cell_type": "code",
   "execution_count": 49,
   "id": "b6252e716e8343a",
   "metadata": {},
   "outputs": [
    {
     "data": {
      "text/plain": [
       "0.7721925133689839"
      ]
     },
     "execution_count": 49,
     "metadata": {},
     "output_type": "execute_result"
    }
   ],
   "source": [
    "cv_results['test_accuracy'].mean()\n",
    "# Accuracy: 0.7721\n",
    "\n",
    "# Die durchschnittliche Genauigkeit des Modells beträgt demnach über alle fünf Testläufe hinweg 77,21%. "
   ]
  },
  {
   "cell_type": "markdown",
   "id": "99fa5822",
   "metadata": {},
   "source": [
    "Alle anderen Metriken sollten ebenfalls berücksichtigt und die Ergebnisse anschließend ausgewertet werden:"
   ]
  },
  {
   "cell_type": "code",
   "execution_count": 50,
   "id": "a0eed9891345ace0",
   "metadata": {},
   "outputs": [
    {
     "data": {
      "text/plain": [
       "0.7192472060223519"
      ]
     },
     "execution_count": 50,
     "metadata": {},
     "output_type": "execute_result"
    }
   ],
   "source": [
    "cv_results['test_precision'].mean()"
   ]
  },
  {
   "cell_type": "code",
   "execution_count": 51,
   "id": "4e0060870fd09158",
   "metadata": {},
   "outputs": [
    {
     "data": {
      "text/plain": [
       "0.5747030048916841"
      ]
     },
     "execution_count": 51,
     "metadata": {},
     "output_type": "execute_result"
    }
   ],
   "source": [
    "cv_results['test_recall'].mean()"
   ]
  },
  {
   "cell_type": "code",
   "execution_count": 52,
   "id": "6cf9546655b43e22",
   "metadata": {},
   "outputs": [
    {
     "data": {
      "text/plain": [
       "0.6371421090986309"
      ]
     },
     "execution_count": 52,
     "metadata": {},
     "output_type": "execute_result"
    }
   ],
   "source": [
    "cv_results['test_f1'].mean()"
   ]
  },
  {
   "cell_type": "code",
   "execution_count": 53,
   "id": "d5732ee07794358f",
   "metadata": {},
   "outputs": [
    {
     "data": {
      "text/plain": [
       "0.8327295597484277"
      ]
     },
     "execution_count": 53,
     "metadata": {},
     "output_type": "execute_result"
    }
   ],
   "source": [
    "cv_results['test_roc_auc'].mean()"
   ]
  },
  {
   "cell_type": "markdown",
   "id": "7269af0d",
   "metadata": {},
   "source": [
    "Vergleich der Ergebnisse von den verschiedenen Validierungsmethoden:\n",
    "\n",
    "Base:\n",
    "\n",
    "- Accuracy: 0.78\n",
    "- Precision: 0.74\n",
    "- Recall: 0.58\n",
    "- F1-score: 0.65\n",
    "\n",
    "Hold out:\n",
    "\n",
    "- Accuracy: 0.77\n",
    "- Precision: 0.79\n",
    "- Recall: 0.53\n",
    "- F1-score: 0.63\n",
    "\n",
    "\n",
    "Cross Validation:\n",
    "\n",
    "- Accuracy: 0.7721\n",
    "- Precision: 0.7192\n",
    "- Recall: 0.5747\n",
    "- F1-score: 0.6371\n",
    "- AUC: 0.8327 "
   ]
  },
  {
   "cell_type": "markdown",
   "id": "777897ca",
   "metadata": {},
   "source": [
    "Die Genauigkeit begann bei 78 %, sank dann auf 77 % und endete schließlich bei 77 % (aus der Kreuzvalidierung). Dies deutet darauf hin, dass mit größerer Sicherheit eine Klassifizierungsgenauigkeit von 77 % erreicht werden kann. Die Genauigkeitsrate beträgt 0,7721.\n",
    "\n",
    "Die Precision liegt bei 0,7192, während frühere Ergebnisse Werte von 74 und 79 zeigten. Hierbei ist anzumerken, dass unabhängig von dem betrachteten Wert Fragen offen bleiben würden. Durch die zehnfache Kreuzvalidierung bietet der aktuelle Precisionwert einen klareren Indikator für die Leistung des Modells bei der Vorhersage der Klasse 1. Der Recall-Wert beträgt 0,5747 (aus der Kreuzvalidierung), während frühere Ergebnisse 0,53 und 0,58 zeigten. Dies bedeutet, dass die Fähigkeit, tatsächliche 1en vorherzusagen, bei etwa 0,57 liegt. Der F1-Score, als harmonisches Mittel von Precision und Recall, beträgt 0,6371, während andere Werte bei 0,63 und 0,65 lagen, was relativ nahe beieinander liegt.\n",
    "\n",
    "Zusammenfassend wurde der Modellierungsprozess abgeschlossen, und es liegen nun Antworten auf die Frage nach der Leistung des Modells aus verschiedenen Blickwinkeln vor. Während bei einem perfekt ausgeglichenen Datensatz nur die Genauigkeit betrachtet werden könnte, berücksichtigen wir bei diesem Datensatz auch andere Faktoren wie den F1-Score. Obwohl der F1-Score mit 63 % (aus der Kreuzvalidierung) nicht als sehr gut bezeichnet werden kann, ist er auch nicht als sehr schlecht einzustufen. Der AUC-Wert von 83 % ist jedoch ziemlich gut.\n",
    "\n",
    "Zusammenfassend ist festzustellen, dass dieses Modell bemerkenswert ist. Es wurden keine umfangreichen Variablentransformationen oder detaillierten Datenbereinigungen durchgeführt, dennoch wurde ein zufriedenstellendes Ergebnis erzielt."
   ]
  },
  {
   "cell_type": "markdown",
   "id": "edab1b9c520b838b",
   "metadata": {},
   "source": [
    "# Prediction for A New Observation"
   ]
  },
  {
   "cell_type": "markdown",
   "id": "643c6649",
   "metadata": {},
   "source": [
    "Nachdem das Ziel, ein Modell zur Vorhersage von Diabetes zu entwickeln, festgelegt wurde, ist es nun an der Zeit, die Wirksamkeit dieses Modells zu überprüfen. Durch die Klassifizierung von Personen basierend auf ihren Merkmalen können wir feststellen, ob sie an Diabetes erkrankt sind oder nicht."
   ]
  },
  {
   "cell_type": "code",
   "execution_count": 54,
   "id": "23f097bc41b965e0",
   "metadata": {},
   "outputs": [
    {
     "data": {
      "text/plain": [
       "array([1], dtype=int64)"
      ]
     },
     "execution_count": 54,
     "metadata": {},
     "output_type": "execute_result"
    }
   ],
   "source": [
    "random_user = X.sample(1, random_state=45)\n",
    "\n",
    "log_model.predict(random_user)"
   ]
  }
 ],
 "metadata": {
  "kernelspec": {
   "display_name": "Python 3 (ipykernel)",
   "language": "python",
   "name": "python3"
  },
  "language_info": {
   "codemirror_mode": {
    "name": "ipython",
    "version": 3
   },
   "file_extension": ".py",
   "mimetype": "text/x-python",
   "name": "python",
   "nbconvert_exporter": "python",
   "pygments_lexer": "ipython3",
   "version": "3.10.13"
  }
 },
 "nbformat": 4,
 "nbformat_minor": 5
}
